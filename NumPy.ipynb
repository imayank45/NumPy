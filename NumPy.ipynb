{
 "cells": [
  {
   "cell_type": "code",
   "execution_count": 1,
   "id": "692b0d78",
   "metadata": {},
   "outputs": [],
   "source": [
    "import numpy as np"
   ]
  },
  {
   "cell_type": "markdown",
   "id": "dd345a30",
   "metadata": {},
   "source": [
    "## 1. Converting list into arrays"
   ]
  },
  {
   "cell_type": "code",
   "execution_count": 35,
   "id": "8daa36fb",
   "metadata": {},
   "outputs": [
    {
     "name": "stdout",
     "output_type": "stream",
     "text": [
      "<class 'list'>\n",
      "<class 'numpy.ndarray'>\n",
      "[1 2 3 4 5]\n",
      "[1 2 3 4 5]\n",
      "[[1 2 3 4 5]]\n"
     ]
    }
   ],
   "source": [
    "lst = [1,2,3,4,5]\n",
    "print(type(lst))\n",
    "arr = np.array(lst)\n",
    "print(type(arr))\n",
    "print(arr)\n",
    "arr = np.array(arr, ndmin = 1)\n",
    "print(arr)\n",
    "arr = np.array(arr, ndmin = 2)\n",
    "print(arr)"
   ]
  },
  {
   "cell_type": "markdown",
   "id": "8b808d83",
   "metadata": {},
   "source": [
    "## 2. Arange function"
   ]
  },
  {
   "cell_type": "markdown",
   "id": "7305d2cb",
   "metadata": {},
   "source": [
    "The arange([start], [stop], [dtype]) : Returns an array with evenly spaced elements as per the interval.\n",
    "The interval mentioned is half-opened i.e. [start, stop]"
   ]
  },
  {
   "cell_type": "code",
   "execution_count": 36,
   "id": "0276d115",
   "metadata": {},
   "outputs": [
    {
     "data": {
      "text/plain": [
       "array([1, 3, 5, 7, 9])"
      ]
     },
     "execution_count": 36,
     "metadata": {},
     "output_type": "execute_result"
    }
   ],
   "source": [
    "np.arange(1,11,2)"
   ]
  },
  {
   "cell_type": "markdown",
   "id": "c633ed6f",
   "metadata": {},
   "source": [
    "## 3. Multidimensional array"
   ]
  },
  {
   "cell_type": "code",
   "execution_count": 37,
   "id": "9b001a63",
   "metadata": {},
   "outputs": [
    {
     "data": {
      "text/plain": [
       "array([[1, 2, 3],\n",
       "       [4, 5, 6],\n",
       "       [7, 8, 9]])"
      ]
     },
     "execution_count": 37,
     "metadata": {},
     "output_type": "execute_result"
    }
   ],
   "source": [
    "arr = np.array([[1,2,3],[4,5,6],[7,8,9]])\n",
    "arr"
   ]
  },
  {
   "cell_type": "markdown",
   "id": "5f881a39",
   "metadata": {},
   "source": [
    "## 4. Size function"
   ]
  },
  {
   "cell_type": "markdown",
   "id": "5b9c38ab",
   "metadata": {},
   "source": [
    "In python, numpy.size() function count the number of elements along a given axis (0 - Rows | 1 - Columns)"
   ]
  },
  {
   "cell_type": "code",
   "execution_count": 38,
   "id": "5e1e44e8",
   "metadata": {},
   "outputs": [
    {
     "name": "stdout",
     "output_type": "stream",
     "text": [
      "[[1 2 3]\n",
      " [4 5 6]\n",
      " [7 8 9]]\n",
      "\n",
      "Total size   :  9\n",
      "Rows         :  3\n",
      "Columns      :  3\n"
     ]
    }
   ],
   "source": [
    "arr = np.array([[1,2,3],[4,5,6],[7,8,9]])\n",
    "print(arr)\n",
    "print('\\nTotal size   : ',arr.size)\n",
    "print('Rows         : ',np.size(arr,0))\n",
    "print('Columns      : ',np.size(arr,1))"
   ]
  },
  {
   "cell_type": "markdown",
   "id": "6ea0d634",
   "metadata": {},
   "source": [
    "## 5. Shape function"
   ]
  },
  {
   "cell_type": "markdown",
   "id": "4dc108d7",
   "metadata": {},
   "source": [
    "The shape of an array can be defined as the number of elements in each dimensions. Dimension is the number of indices or subscripts, that we require in order to specify an individual element of an array."
   ]
  },
  {
   "cell_type": "code",
   "execution_count": 39,
   "id": "5ed180d8",
   "metadata": {},
   "outputs": [
    {
     "data": {
      "text/plain": [
       "(3, 3)"
      ]
     },
     "execution_count": 39,
     "metadata": {},
     "output_type": "execute_result"
    }
   ],
   "source": [
    "arr = np.array([[1,2,3],[4,5,6],[7,8,9]])\n",
    "arr.shape"
   ]
  },
  {
   "cell_type": "markdown",
   "id": "b157b11b",
   "metadata": {},
   "source": [
    "## 6. Shape function"
   ]
  },
  {
   "cell_type": "markdown",
   "id": "428af049",
   "metadata": {},
   "source": [
    "Every ndarray has an assciated data type (dtype) object. This data type object (dtype) inform us about layout of the array. This means it gives ys information about:\n",
    " - Type of data (int, float, Python object, etc)\n",
    " - Size of the data (number of bytes)\n",
    " - The byte order of the data (little-endian or big-endian)\n",
    " - If the data type is a sub-array, what is the shape and data type?"
   ]
  },
  {
   "cell_type": "code",
   "execution_count": 23,
   "id": "947e146d",
   "metadata": {},
   "outputs": [
    {
     "name": "stdout",
     "output_type": "stream",
     "text": [
      "int32\n",
      "float64\n"
     ]
    }
   ],
   "source": [
    "arr1 = np.array([1,2,3,4,5])\n",
    "arr2 = np.array([2.1,4.5,5.1])\n",
    "\n",
    "print(arr1.dtype)\n",
    "print(arr2.dtype)"
   ]
  },
  {
   "cell_type": "markdown",
   "id": "2b710eca",
   "metadata": {},
   "source": [
    "## 7. Ndim funtion"
   ]
  },
  {
   "cell_type": "markdown",
   "id": "ca1f52ab",
   "metadata": {},
   "source": [
    "numpy.ndarray.ndim() function return the number of dimensions of an array."
   ]
  },
  {
   "cell_type": "code",
   "execution_count": 27,
   "id": "9187fcc9",
   "metadata": {},
   "outputs": [
    {
     "name": "stdout",
     "output_type": "stream",
     "text": [
      "1\n",
      "2\n",
      "3\n",
      "[[[1 2 3 4 5]]]\n"
     ]
    }
   ],
   "source": [
    "arr1 = np.array([1,2,3,4,5])\n",
    "arr2 = np.array([[1,2,3],[4,5,6]])\n",
    "\n",
    "print(arr1.ndim)\n",
    "print(arr2.ndim)\n",
    "\n",
    "arr3 = np.array(arr1, ndmin = 3)\n",
    "print(arr3.ndim)\n",
    "print(arr3)\n"
   ]
  },
  {
   "cell_type": "markdown",
   "id": "62268629",
   "metadata": {},
   "source": [
    "## 8. Zeros function"
   ]
  },
  {
   "cell_type": "markdown",
   "id": "b15d4d82",
   "metadata": {},
   "source": [
    "The numpy.zeros() function returns a new array of a given shape and type with zeros.<br>\n",
    "Syntax:<br>\n",
    "np.zeros(shape,dtype = None)"
   ]
  },
  {
   "cell_type": "code",
   "execution_count": 30,
   "id": "f6d764c2",
   "metadata": {},
   "outputs": [
    {
     "name": "stdout",
     "output_type": "stream",
     "text": [
      "[[0. 0. 0. 0. 0.]\n",
      " [0. 0. 0. 0. 0.]\n",
      " [0. 0. 0. 0. 0.]]\n",
      "\n",
      " [[0 0 0 0 0]\n",
      " [0 0 0 0 0]\n",
      " [0 0 0 0 0]]\n"
     ]
    }
   ],
   "source": [
    "arr = np.zeros(shape = (3,5))\n",
    "print(arr)\n",
    "arr = np.zeros(shape = (3,5), dtype = int)\n",
    "print('\\n',arr)"
   ]
  },
  {
   "cell_type": "markdown",
   "id": "6f59927e",
   "metadata": {},
   "source": [
    "## 9. Ones funtion"
   ]
  },
  {
   "cell_type": "markdown",
   "id": "19bb1ae0",
   "metadata": {},
   "source": [
    "The numpy.ones() returns a new array of shape and data type with ones.<br>\n",
    "Syntax:<br>\n",
    "np.ones(ahpe,dtype = None)"
   ]
  },
  {
   "cell_type": "code",
   "execution_count": 33,
   "id": "ddcf337c",
   "metadata": {},
   "outputs": [
    {
     "name": "stdout",
     "output_type": "stream",
     "text": [
      "[[1. 1. 1. 1.]\n",
      " [1. 1. 1. 1.]\n",
      " [1. 1. 1. 1.]\n",
      " [1. 1. 1. 1.]]\n",
      "\n",
      " [[1 1 1 1]\n",
      " [1 1 1 1]\n",
      " [1 1 1 1]\n",
      " [1 1 1 1]]\n"
     ]
    }
   ],
   "source": [
    "arr = np.ones(shape = (4,4))\n",
    "print(arr)\n",
    "arr = np.ones(shape = (4,4), dtype = int)\n",
    "print('\\n',arr)"
   ]
  },
  {
   "cell_type": "markdown",
   "id": "7846874f",
   "metadata": {},
   "source": [
    "## 10. Eye function"
   ]
  },
  {
   "cell_type": "markdown",
   "id": "26afc5d2",
   "metadata": {},
   "source": [
    "The eye tool returns a 2-D array with 1's as the diagonal and 0's elsewhere. The diagonal can be main, upper or lower depending on the optional parameter k."
   ]
  },
  {
   "cell_type": "code",
   "execution_count": 44,
   "id": "58d00a46",
   "metadata": {},
   "outputs": [
    {
     "name": "stdout",
     "output_type": "stream",
     "text": [
      "[[1. 0. 0. 0.]\n",
      " [0. 1. 0. 0.]\n",
      " [0. 0. 1. 0.]\n",
      " [0. 0. 0. 1.]]\n",
      "\n",
      " [[1 0 0 0]\n",
      " [0 1 0 0]\n",
      " [0 0 1 0]\n",
      " [0 0 0 1]]\n"
     ]
    }
   ],
   "source": [
    "print(np.eye(4))\n",
    "print('\\n',np.eye(4,dtype = int))"
   ]
  },
  {
   "cell_type": "markdown",
   "id": "35a14af3",
   "metadata": {},
   "source": [
    "## 11. Empty funtion"
   ]
  },
  {
   "cell_type": "markdown",
   "id": "c389923f",
   "metadata": {},
   "source": [
    "Return an empty array of a given shape and type."
   ]
  },
  {
   "cell_type": "code",
   "execution_count": 48,
   "id": "8da61e3b",
   "metadata": {},
   "outputs": [
    {
     "data": {
      "text/plain": [
       "array([[8.35959073e-321, 1.72448572e-307, 6.23040373e-307,\n",
       "        1.60219035e-306, 7.56577399e-307],\n",
       "       [1.20161458e-306, 7.56599807e-307, 8.90104239e-307,\n",
       "        3.11525958e-307, 1.69118108e-306],\n",
       "       [8.06632139e-308, 1.20160711e-306, 1.69119330e-306,\n",
       "        1.29062229e-306, 1.60217812e-306],\n",
       "       [1.37961370e-306, 1.42417629e-306, 1.37961913e-306,\n",
       "        1.42418172e-306, 8.06610070e-308],\n",
       "       [6.89810244e-307, 1.22387550e-307, 2.22522596e-306,\n",
       "        1.42410974e-306, 3.23796840e-317]])"
      ]
     },
     "execution_count": 48,
     "metadata": {},
     "output_type": "execute_result"
    }
   ],
   "source": [
    "np.empty(shape = (5,5))"
   ]
  },
  {
   "cell_type": "markdown",
   "id": "143e03a5",
   "metadata": {},
   "source": [
    "## 12. Random functions"
   ]
  },
  {
   "cell_type": "markdown",
   "id": "6debf85b",
   "metadata": {},
   "source": [
    "### a) np.random.rand\n",
    "The numpy.random.rand() function creates an array of specified shape and fills it with random values."
   ]
  },
  {
   "cell_type": "code",
   "execution_count": 51,
   "id": "31150ea4",
   "metadata": {},
   "outputs": [
    {
     "data": {
      "text/plain": [
       "array([[0.37029958, 0.26250051, 0.57471982, 0.40348994],\n",
       "       [0.31094437, 0.79372732, 0.05144744, 0.5455428 ],\n",
       "       [0.15112995, 0.58620115, 0.27563186, 0.34661739]])"
      ]
     },
     "execution_count": 51,
     "metadata": {},
     "output_type": "execute_result"
    }
   ],
   "source": [
    "np.random.rand(3,4)"
   ]
  },
  {
   "cell_type": "markdown",
   "id": "0bfa4902",
   "metadata": {},
   "source": [
    "### b) np.random.randint\n",
    "The numpy.random.randint() is one of the function for doing random sampling in numpy. It returns an array of specified shape and fills it with integers from low (inclusive) to high (exclusive), i.e. in the interval (low,high)."
   ]
  },
  {
   "cell_type": "code",
   "execution_count": 54,
   "id": "943ffb90",
   "metadata": {
    "scrolled": true
   },
   "outputs": [
    {
     "data": {
      "text/plain": [
       "array([ 2,  2,  6,  7,  4,  2,  3, 10,  8,  7])"
      ]
     },
     "execution_count": 54,
     "metadata": {},
     "output_type": "execute_result"
    }
   ],
   "source": [
    "np.random.randint(low = 1, high = 11, size = 10)"
   ]
  },
  {
   "cell_type": "markdown",
   "id": "62f46f5c",
   "metadata": {},
   "source": [
    "### c) np.random.randn\n",
    "The numpy.random.randn() function creates an array of specified shape and fills it with random values as per standard normal distribution."
   ]
  },
  {
   "cell_type": "code",
   "execution_count": 69,
   "id": "abbfae42",
   "metadata": {},
   "outputs": [
    {
     "data": {
      "image/png": "[encoded data removed]",
      "text/plain": [
       "<Figure size 640x480 with 1 Axes>"
      ]
     },
     "metadata": {},
     "output_type": "display_data"
    }
   ],
   "source": [
    "import matplotlib.pyplot as plt\n",
    "%matplotlib inline\n",
    "plt.hist(np.random.randn(100000),bins = 1000);"
   ]
  },
  {
   "cell_type": "markdown",
   "id": "bce11619",
   "metadata": {},
   "source": [
    "## 13. Reshape function"
   ]
  },
  {
   "cell_type": "markdown",
   "id": "ecf21e0a",
   "metadata": {},
   "source": [
    "The numpy.reshape() function shapes an array without changing the data of the array.<br>\n",
    "It should be noted that the product if the rows and columns should be same."
   ]
  },
  {
   "cell_type": "code",
   "execution_count": 71,
   "id": "92fad2a8",
   "metadata": {},
   "outputs": [
    {
     "name": "stdout",
     "output_type": "stream",
     "text": [
      "[[7 5 2 2]\n",
      " [1 5 3 2]\n",
      " [6 4 3 7]]\n",
      "\n",
      " [[7 5 2]\n",
      " [2 1 5]\n",
      " [3 2 6]\n",
      " [4 3 7]]\n"
     ]
    }
   ],
   "source": [
    "arr = np.random.randint(1,10,(3,4))\n",
    "print(arr)\n",
    "arr = arr.reshape(4,3)\n",
    "print('\\n',arr)"
   ]
  },
  {
   "cell_type": "markdown",
   "id": "ae21e136",
   "metadata": {},
   "source": [
    "## 14. Linespace function"
   ]
  },
  {
   "cell_type": "markdown",
   "id": "f01e1efe",
   "metadata": {},
   "source": [
    "The numpy.linspace() function returns number spaces evenly w.r.t to interval. Similar to numpy.arange() function but instead of step it uses simple number.<br>"
   ]
  },
  {
   "cell_type": "code",
   "execution_count": 73,
   "id": "ad8288bf",
   "metadata": {},
   "outputs": [
    {
     "data": {
      "text/plain": [
       "array([ 1. ,  5.5, 10. ])"
      ]
     },
     "execution_count": 73,
     "metadata": {},
     "output_type": "execute_result"
    }
   ],
   "source": [
    "np.linspace(1,10,3)"
   ]
  },
  {
   "cell_type": "markdown",
   "id": "0a3b2222",
   "metadata": {},
   "source": [
    "## 15. Flatten function"
   ]
  },
  {
   "cell_type": "markdown",
   "id": "986560b2",
   "metadata": {},
   "source": [
    "The ndarray.flatten() function return a copy of the array collapsed into one dimension."
   ]
  },
  {
   "cell_type": "code",
   "execution_count": 74,
   "id": "2e505bc4",
   "metadata": {},
   "outputs": [
    {
     "name": "stdout",
     "output_type": "stream",
     "text": [
      "[[7 4 3 9]\n",
      " [4 4 7 6]\n",
      " [3 4 4 8]]\n",
      "\n",
      " (3, 4)\n",
      "\n",
      " [7 4 3 9 4 4 7 6 3 4 4 8]\n",
      "\n",
      " (12,)\n"
     ]
    }
   ],
   "source": [
    "arr = np.random.randint(1,10,(3,4))\n",
    "print(arr)\n",
    "print('\\n',arr.shape)\n",
    "arr = arr.flatten()\n",
    "print('\\n',arr)\n",
    "print('\\n',arr.shape)"
   ]
  },
  {
   "cell_type": "markdown",
   "id": "789c056a",
   "metadata": {},
   "source": [
    "## 16. Logspace function"
   ]
  },
  {
   "cell_type": "markdown",
   "id": "3ff85b7b",
   "metadata": {},
   "source": [
    "The numpy.logspace() function returns number sapces evenly w.r.t interval on a log scale."
   ]
  },
  {
   "cell_type": "code",
   "execution_count": 80,
   "id": "3603ea89",
   "metadata": {},
   "outputs": [
    {
     "name": "stdout",
     "output_type": "stream",
     "text": [
      "[  100.           166.81005372   278.25594022   464.15888336\n",
      "   774.26368268  1291.54966501  2154.43469003  3593.8136638\n",
      "  5994.84250319 10000.        ]\n",
      "\n",
      " [ 4.          4.66611616  5.44316     6.34960421  7.4069977   8.64047791\n",
      " 10.0793684  11.75787594 13.71590373 16.        ]\n"
     ]
    }
   ],
   "source": [
    "print(np.logspace(2,4,10))\n",
    "\n",
    "print('\\n',np.logspace(2,4,10,base = 2))"
   ]
  },
  {
   "cell_type": "markdown",
   "id": "e1094411",
   "metadata": {},
   "source": [
    "## 17. Copy function"
   ]
  },
  {
   "cell_type": "markdown",
   "id": "cd101edd",
   "metadata": {},
   "source": [
    "If we nomally use the quals sign then the **id** of both the numpy array will be same, so we need to use to copy function."
   ]
  },
  {
   "cell_type": "code",
   "execution_count": 81,
   "id": "cbf85453",
   "metadata": {},
   "outputs": [
    {
     "name": "stdout",
     "output_type": "stream",
     "text": [
      "[12  1  3  3  3 11  6 10  4  3] 1813723216560\n",
      "[12  1  3  3  3 11  6 10  4  3] 1813723216560\n",
      "--------------------------------------------------\n",
      "[ 5  5  5  6  8 13 12  5  5  8] 1813723216272\n",
      "[ 5  5  5  6  8 13 12  5  5  8] 1813598525584\n"
     ]
    }
   ],
   "source": [
    "arr1 = np.random.randint(1,15,10)\n",
    "arr2 = arr1\n",
    "\n",
    "print(arr1,id(arr1))\n",
    "print(arr2,id(arr2))\n",
    "print('-'*50)\n",
    "\n",
    "arr1 = np.random.randint(1,15,10)\n",
    "arr2 = np.copy(arr1)\n",
    "\n",
    "print(arr1,id(arr1))\n",
    "print(arr2,id(arr2))"
   ]
  },
  {
   "cell_type": "markdown",
   "id": "e7fc4f99",
   "metadata": {},
   "source": [
    "## 18. arr.max(), arr.min() and arr.sum() function"
   ]
  },
  {
   "cell_type": "code",
   "execution_count": 85,
   "id": "9b8f7b58",
   "metadata": {},
   "outputs": [
    {
     "name": "stdout",
     "output_type": "stream",
     "text": [
      "--------------------\n",
      "[[ 8 12 19  9 15]\n",
      " [13 20  9 15 18]\n",
      " [ 7 10 19  1 18]\n",
      " [ 6 13  6 13 19]]\n",
      "--------------------\n",
      "MAX :  20\n",
      "MIN :  1\n",
      "SUM :  250\n",
      "--------------------\n",
      "MAX :  [13 20 19 15 19]\n",
      "MIN :  [ 6 10  6  1 15]\n",
      "SUM :  [34 55 53 38 70]\n",
      "--------------------\n",
      "MAX :  [19 20 19 19]\n",
      "MIN :  [8 9 1 6]\n",
      "SUM :  [63 75 55 57]\n"
     ]
    }
   ],
   "source": [
    "arr = np.random.randint(1,25,(4,5))\n",
    "\n",
    "print('-'*20)\n",
    "print(arr)\n",
    "print('-'*20)\n",
    "\n",
    "print('MAX : ',arr.max())\n",
    "print('MIN : ',arr.min())\n",
    "print('SUM : ',arr.sum())\n",
    "print('-'*20)\n",
    "# for columnwise\n",
    "print('MAX : ',arr.max(axis = 0))\n",
    "print('MIN : ',arr.min(axis = 0))\n",
    "print('SUM : ',arr.sum(axis = 0))\n",
    "print('-'*20)\n",
    "# for rowise\n",
    "print('MAX : ',arr.max(axis = 1))\n",
    "print('MIN : ',arr.min(axis = 1))\n",
    "print('SUM : ',arr.sum(axis = 1))"
   ]
  },
  {
   "cell_type": "markdown",
   "id": "d101cf71",
   "metadata": {},
   "source": [
    "## 19. Seed function"
   ]
  },
  {
   "cell_type": "markdown",
   "id": "61234921",
   "metadata": {},
   "source": [
    "random() is used to generate random numbers in Python. Not actually random, rather this is used to generate pseudo-random numbers. That implies that these randomly generated numbers can be determined.<br>\n",
    "random() function generates numbers for some values. This value is also called seed value."
   ]
  },
  {
   "cell_type": "code",
   "execution_count": 8,
   "id": "cf4b31d9",
   "metadata": {},
   "outputs": [
    {
     "data": {
      "text/plain": [
       "array([[ 8,  6,  2,  9,  8],\n",
       "       [ 9,  3, 10,  8,  8],\n",
       "       [ 8, 10,  9,  5,  3]])"
      ]
     },
     "execution_count": 8,
     "metadata": {},
     "output_type": "execute_result"
    }
   ],
   "source": [
    "np.random.seed(4)\n",
    "\n",
    "arr = np.random.randint(1,11,(3,5))\n",
    "\n",
    "arr"
   ]
  },
  {
   "cell_type": "code",
   "execution_count": 11,
   "id": "b1cfeeec",
   "metadata": {},
   "outputs": [
    {
     "data": {
      "text/plain": [
       "array([[ 2, 10, 10,  1,  8],\n",
       "       [ 3,  7,  4,  8,  9],\n",
       "       [ 3,  7,  8,  8, 10]])"
      ]
     },
     "execution_count": 11,
     "metadata": {},
     "output_type": "execute_result"
    }
   ],
   "source": [
    "arr = np.random.randint(1,11,(3,5))\n",
    "\n",
    "arr"
   ]
  },
  {
   "cell_type": "markdown",
   "id": "dc39abc4",
   "metadata": {},
   "source": [
    "## 20. Sorting function"
   ]
  },
  {
   "cell_type": "markdown",
   "id": "0b79b10d",
   "metadata": {},
   "source": [
    "numpy.sort() : This function returns a sorted copy of an array."
   ]
  },
  {
   "cell_type": "code",
   "execution_count": 20,
   "id": "ab7bda5f",
   "metadata": {},
   "outputs": [
    {
     "name": "stdout",
     "output_type": "stream",
     "text": [
      "---------------\n",
      "[[9 4 9 9 1]\n",
      " [6 4 6 8 7]\n",
      " [1 5 8 9 2]\n",
      " [7 3 3 2 4]]\n",
      "---------------\n",
      "[[1 4 9 9 9]\n",
      " [4 6 6 7 8]\n",
      " [1 2 5 8 9]\n",
      " [2 3 3 4 7]]\n",
      "---------------\n",
      "[[1 3 3 2 1]\n",
      " [6 4 6 8 2]\n",
      " [7 4 8 9 4]\n",
      " [9 5 9 9 7]]\n",
      "---------------\n",
      "[[1 1 2 2 3]\n",
      " [3 4 4 4 5]\n",
      " [6 6 7 7 8]\n",
      " [8 9 9 9 9]]\n"
     ]
    }
   ],
   "source": [
    "np.random.seed(3)\n",
    "arr = np.random.randint(1,10,(4,5))\n",
    "print('-'*15)\n",
    "print(arr)\n",
    "print('-'*15)\n",
    "print(np.sort(arr, axis = 1))\n",
    "print('-'*15)\n",
    "print(np.sort(arr, axis = 0))\n",
    "print('-'*15)\n",
    "\n",
    "arr = np.reshape(np.sort(arr.flatten()),arr.shape)\n",
    "print(arr)"
   ]
  },
  {
   "cell_type": "markdown",
   "id": "21a5cf13",
   "metadata": {},
   "source": [
    "## 21. Mathematical operations"
   ]
  },
  {
   "cell_type": "markdown",
   "id": "2fde4684",
   "metadata": {},
   "source": [
    "### a) Addition"
   ]
  },
  {
   "cell_type": "code",
   "execution_count": 23,
   "id": "b733720f",
   "metadata": {},
   "outputs": [
    {
     "name": "stdout",
     "output_type": "stream",
     "text": [
      "---------------\n",
      "[[9 4 9]\n",
      " [9 1 6]\n",
      " [4 6 8]]\n",
      "---------------\n",
      "[[10  5 10]\n",
      " [10  2  7]\n",
      " [ 5  7  9]]\n",
      "---------------\n"
     ]
    }
   ],
   "source": [
    "np.random.seed(3)\n",
    "arr = np.random.randint(1,10,(3,3))\n",
    "print('-'*15)\n",
    "print(arr)\n",
    "print('-'*15)\n",
    "print(arr + 1)\n",
    "print('-'*15)"
   ]
  },
  {
   "cell_type": "markdown",
   "id": "c4563be0",
   "metadata": {},
   "source": [
    "### b) Substraction"
   ]
  },
  {
   "cell_type": "code",
   "execution_count": 25,
   "id": "0135433c",
   "metadata": {},
   "outputs": [
    {
     "name": "stdout",
     "output_type": "stream",
     "text": [
      "---------------\n",
      "[[9 4 9]\n",
      " [9 1 6]\n",
      " [4 6 8]]\n",
      "---------------\n",
      "[[8 3 8]\n",
      " [8 0 5]\n",
      " [3 5 7]]\n",
      "---------------\n"
     ]
    }
   ],
   "source": [
    "print('-'*15)\n",
    "print(arr)\n",
    "print('-'*15)\n",
    "print(arr - 1)\n",
    "print('-'*15)"
   ]
  },
  {
   "cell_type": "markdown",
   "id": "aec8deac",
   "metadata": {},
   "source": [
    "### c) Multiplication"
   ]
  },
  {
   "cell_type": "code",
   "execution_count": 26,
   "id": "ba3ff949",
   "metadata": {},
   "outputs": [
    {
     "name": "stdout",
     "output_type": "stream",
     "text": [
      "---------------\n",
      "[[9 4 9]\n",
      " [9 1 6]\n",
      " [4 6 8]]\n",
      "---------------\n",
      "[[45 20 45]\n",
      " [45  5 30]\n",
      " [20 30 40]]\n",
      "---------------\n"
     ]
    }
   ],
   "source": [
    "print('-'*15)\n",
    "print(arr)\n",
    "print('-'*15)\n",
    "print(arr * 5)\n",
    "print('-'*15)"
   ]
  },
  {
   "cell_type": "markdown",
   "id": "308efaac",
   "metadata": {},
   "source": [
    "### d) Division"
   ]
  },
  {
   "cell_type": "code",
   "execution_count": 27,
   "id": "515128e4",
   "metadata": {},
   "outputs": [
    {
     "name": "stdout",
     "output_type": "stream",
     "text": [
      "---------------\n",
      "[[9 4 9]\n",
      " [9 1 6]\n",
      " [4 6 8]]\n",
      "---------------\n",
      "[[4.5 2.  4.5]\n",
      " [4.5 0.5 3. ]\n",
      " [2.  3.  4. ]]\n",
      "---------------\n"
     ]
    }
   ],
   "source": [
    "print('-'*15)\n",
    "print(arr)\n",
    "print('-'*15)\n",
    "print(arr / 2)\n",
    "print('-'*15)"
   ]
  },
  {
   "cell_type": "markdown",
   "id": "c53dc084",
   "metadata": {},
   "source": [
    "### e) Power"
   ]
  },
  {
   "cell_type": "code",
   "execution_count": 28,
   "id": "7f58d0ed",
   "metadata": {},
   "outputs": [
    {
     "name": "stdout",
     "output_type": "stream",
     "text": [
      "---------------\n",
      "[[9 4 9]\n",
      " [9 1 6]\n",
      " [4 6 8]]\n",
      "---------------\n",
      "[[81 16 81]\n",
      " [81  1 36]\n",
      " [16 36 64]]\n",
      "---------------\n"
     ]
    }
   ],
   "source": [
    "print('-'*15)\n",
    "print(arr)\n",
    "print('-'*15)\n",
    "print(arr ** 2)\n",
    "print('-'*15)"
   ]
  },
  {
   "cell_type": "markdown",
   "id": "bd848a9a",
   "metadata": {},
   "source": [
    "### f) Dot product"
   ]
  },
  {
   "cell_type": "code",
   "execution_count": 32,
   "id": "774af1bd",
   "metadata": {},
   "outputs": [
    {
     "name": "stdout",
     "output_type": "stream",
     "text": [
      "---------------\n",
      "[[9 4 9]\n",
      " [9 1 6]\n",
      " [4 6 8]]\n",
      "---------------\n",
      "[[7 1 5]\n",
      " [8 9 2]\n",
      " [7 3 3]]\n",
      "---------------\n",
      "[[158  72  80]\n",
      " [113  36  65]\n",
      " [132  82  56]]\n",
      "---------------\n",
      "[[ 92  59 109]\n",
      " [161  53 142]\n",
      " [102  49 105]]\n",
      "---------------\n"
     ]
    }
   ],
   "source": [
    "np.random.seed(3)\n",
    "\n",
    "arr1 = np.random.randint(1,10,(3,3))\n",
    "arr2 = np.random.randint(1,10,(3,3))\n",
    "\n",
    "print('-'*15)\n",
    "print(arr1)\n",
    "print('-'*15)\n",
    "print(arr2)\n",
    "print('-'*15)\n",
    "print(arr1.dot(arr2))\n",
    "print('-'*15)\n",
    "print(arr2.dot(arr1))\n",
    "print('-'*15)"
   ]
  },
  {
   "cell_type": "markdown",
   "id": "f72b042f",
   "metadata": {},
   "source": [
    "## 22. Percentile function"
   ]
  },
  {
   "cell_type": "markdown",
   "id": "dea09f1b",
   "metadata": {},
   "source": [
    "numpy.prcentile() function used to compute the nth percentile of the given data (array elements) along specified axis."
   ]
  },
  {
   "cell_type": "code",
   "execution_count": 38,
   "id": "ed67ae2c",
   "metadata": {},
   "outputs": [
    {
     "name": "stdout",
     "output_type": "stream",
     "text": [
      "[9 4 9 9 1 6 4 6 8 7]\n",
      "[1 4 4 6 6 7 8 9 9 9]\n",
      "6.5\n"
     ]
    }
   ],
   "source": [
    "np.random.seed(3)\n",
    "arr = np.random.randint(1,10,10)\n",
    "print(arr)\n",
    "\n",
    "arr = np.sort(arr)\n",
    "print(arr)\n",
    "\n",
    "print(np.percentile(arr,50))"
   ]
  },
  {
   "cell_type": "markdown",
   "id": "dcd65ca3",
   "metadata": {},
   "source": [
    "## 23. Mean, Variance and Standard deviation"
   ]
  },
  {
   "cell_type": "code",
   "execution_count": 40,
   "id": "01cd5d3c",
   "metadata": {},
   "outputs": [
    {
     "name": "stdout",
     "output_type": "stream",
     "text": [
      "[9 4 9 9 1 6 4 6 8 7]\n",
      "6.3\n",
      "2.5317977802344327\n",
      "6.410000000000001\n"
     ]
    }
   ],
   "source": [
    "np.random.seed(3)\n",
    "arr = np.random.randint(1,10,10)\n",
    "print(arr)\n",
    "print(arr.mean())\n",
    "print(arr.std())\n",
    "print(arr.var())"
   ]
  },
  {
   "cell_type": "markdown",
   "id": "4a7e8790",
   "metadata": {},
   "source": [
    "## 24. Filtering an numpy array"
   ]
  },
  {
   "cell_type": "code",
   "execution_count": 50,
   "id": "b2af3c5a",
   "metadata": {},
   "outputs": [
    {
     "name": "stdout",
     "output_type": "stream",
     "text": [
      "[1 2 3 4 5 6 7 8 9]\n",
      "[False False False False False  True  True  True  True]\n",
      "[6 7 8 9]\n",
      "[ 1  2  3  4  5 10 10 10 10]\n"
     ]
    }
   ],
   "source": [
    "arr = np.arange(1,10,1)\n",
    "print(arr)\n",
    "print(arr>5)\n",
    "print(arr[arr>5])\n",
    "arr[arr > 5] = 10\n",
    "print(arr)"
   ]
  },
  {
   "cell_type": "markdown",
   "id": "0b72c344",
   "metadata": {},
   "source": [
    "## 25. Transposing an array"
   ]
  },
  {
   "cell_type": "code",
   "execution_count": 51,
   "id": "7ff07c01",
   "metadata": {},
   "outputs": [
    {
     "name": "stdout",
     "output_type": "stream",
     "text": [
      "[[1 5 8]\n",
      " [9 2 7]\n",
      " [3 3 2]]\n",
      "--------------------\n",
      "[[1 9 3]\n",
      " [5 2 3]\n",
      " [8 7 2]]\n"
     ]
    }
   ],
   "source": [
    "arr = np.random.randint(1,10,(3,3))\n",
    "print(arr)\n",
    "print('-'*20)\n",
    "print(arr.T)"
   ]
  },
  {
   "cell_type": "markdown",
   "id": "7e7507c7",
   "metadata": {},
   "source": [
    "## 26. Where function"
   ]
  },
  {
   "cell_type": "markdown",
   "id": "de020aae",
   "metadata": {},
   "source": [
    "The numpy.where() function returns the indices of elements in an input array where the given condition is satisfied."
   ]
  },
  {
   "cell_type": "code",
   "execution_count": 58,
   "id": "59788dc1",
   "metadata": {},
   "outputs": [
    {
     "name": "stdout",
     "output_type": "stream",
     "text": [
      "[92 22 57 40 30 33 49 10 34 61]\n",
      "(array([0, 1, 3, 4, 7, 8], dtype=int64),)\n"
     ]
    }
   ],
   "source": [
    "arr = np.random.randint(1,100,10)\n",
    "print(arr)\n",
    "print(np.where(arr%2==0))"
   ]
  },
  {
   "cell_type": "markdown",
   "id": "d8e43c54",
   "metadata": {},
   "source": [
    "## 27. Merging arrays"
   ]
  },
  {
   "cell_type": "markdown",
   "id": "319933e1",
   "metadata": {},
   "source": [
    "### a) Concatenate\n",
    "The arrays are concatenated either row-wise or column-wise, given that they have equal rows and columns respectively."
   ]
  },
  {
   "cell_type": "code",
   "execution_count": 62,
   "id": "bd32a099",
   "metadata": {},
   "outputs": [
    {
     "name": "stdout",
     "output_type": "stream",
     "text": [
      "---------------\n",
      "[[6 5 8]\n",
      " [2 1 8]\n",
      " [5 9 9]]\n",
      "---------------\n",
      "[[5 2 5]\n",
      " [1 6 7]\n",
      " [8 1 8]]\n",
      "---------------\n",
      "[[6 5 8]\n",
      " [2 1 8]\n",
      " [5 9 9]\n",
      " [5 2 5]\n",
      " [1 6 7]\n",
      " [8 1 8]]\n",
      "---------------\n",
      "[[6 5 8 5 2 5]\n",
      " [2 1 8 1 6 7]\n",
      " [5 9 9 8 1 8]]\n"
     ]
    }
   ],
   "source": [
    "arr1 = np.random.randint(1,10,(3,3))\n",
    "arr2 = np.random.randint(1,10,(3,3))\n",
    "\n",
    "print('-'*15)\n",
    "print(arr1)\n",
    "print('-'*15)\n",
    "print(arr2)\n",
    "print('-'*15)\n",
    "print(np.concatenate((arr1,arr2),axis = 0))\n",
    "print('-'*15)\n",
    "print(np.concatenate((arr1,arr2),axis = 1))"
   ]
  },
  {
   "cell_type": "code",
   "execution_count": 71,
   "id": "38bc3223",
   "metadata": {},
   "outputs": [
    {
     "name": "stdout",
     "output_type": "stream",
     "text": [
      "---------------\n",
      "[[3 5 2]\n",
      " [4 3 2]\n",
      " [5 6 9]]\n",
      "---------------\n",
      "[[4 2 3]\n",
      " [7 6 8]\n",
      " [2 4 4]]\n",
      "---------------\n",
      "[[3 5 2]\n",
      " [4 3 2]\n",
      " [5 6 9]\n",
      " [4 2 3]\n",
      " [7 6 8]\n",
      " [2 4 4]]\n",
      "---------------\n",
      "[[3 5 2 4 2 3]\n",
      " [4 3 2 7 6 8]\n",
      " [5 6 9 2 4 4]]\n"
     ]
    }
   ],
   "source": [
    "arr1 = np.random.randint(1,10,(3,3))\n",
    "arr2 = np.random.randint(1,10,(3,3))\n",
    "print('-'*15)\n",
    "print(arr1)\n",
    "print('-'*15)\n",
    "print(arr2)\n",
    "print('-'*15)\n",
    "print(np.vstack((arr1,arr2)))\n",
    "print('-'*15)\n",
    "print(np.hstack((arr1,arr2)))"
   ]
  },
  {
   "cell_type": "markdown",
   "id": "5ebf96e2",
   "metadata": {},
   "source": [
    "## 28. Splitting arrays"
   ]
  },
  {
   "cell_type": "code",
   "execution_count": 76,
   "id": "0df197d9",
   "metadata": {},
   "outputs": [
    {
     "name": "stdout",
     "output_type": "stream",
     "text": [
      "[[3 2 4 5]\n",
      " [4 9 1 7]\n",
      " [9 4 8 2]\n",
      " [9 3 9 1]]\n",
      "---------------\n",
      "[array([[3, 2, 4, 5],\n",
      "       [4, 9, 1, 7]]), array([[9, 4, 8, 2],\n",
      "       [9, 3, 9, 1]])]\n",
      "---------------\n",
      "[array([[3, 2],\n",
      "       [4, 9],\n",
      "       [9, 4],\n",
      "       [9, 3]]), array([[4, 5],\n",
      "       [1, 7],\n",
      "       [8, 2],\n",
      "       [9, 1]])]\n",
      "---------------\n"
     ]
    }
   ],
   "source": [
    "arr = np.random.randint(1,10,(4,4))\n",
    "\n",
    "print(arr)\n",
    "print('-'*15)\n",
    "print(np.vsplit(arr,2))\n",
    "print('-'*15)\n",
    "print(np.hsplit(arr,2))\n",
    "print('-'*15)\n"
   ]
  },
  {
   "cell_type": "code",
   "execution_count": null,
   "id": "f3fc47d1",
   "metadata": {},
   "outputs": [],
   "source": []
  }
 ],
 "metadata": {
  "kernelspec": {
   "display_name": "Python 3 (ipykernel)",
   "language": "python",
   "name": "python3"
  },
  "language_info": {
   "codemirror_mode": {
    "name": "ipython",
    "version": 3
   },
   "file_extension": ".py",
   "mimetype": "text/x-python",
   "name": "python",
   "nbconvert_exporter": "python",
   "pygments_lexer": "ipython3",
   "version": "3.11.3"
  }
 },
 "nbformat": 4,
 "nbformat_minor": 5
}
